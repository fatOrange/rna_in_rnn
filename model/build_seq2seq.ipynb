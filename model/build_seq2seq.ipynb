{
 "cells": [
  {
   "cell_type": "code",
   "execution_count": 1,
   "metadata": {},
   "outputs": [
    {
     "name": "stderr",
     "output_type": "stream",
     "text": [
      "Using TensorFlow backend.\n"
     ]
    }
   ],
   "source": [
    "from keras.layers import *\n",
    "from keras.models import Model\n",
    "from keras.activations import relu\n",
    "import numpy as np"
   ]
  },
  {
   "cell_type": "code",
   "execution_count": 2,
   "metadata": {},
   "outputs": [],
   "source": [
    "input_length = 10\n",
    "input_dim = 1\n",
    "\n",
    "output_length = 10\n",
    "output_dim = 4\n",
    "\n",
    "samples = 100\n",
    "hidden_dim = 3\n",
    "hidden_size = 6"
   ]
  },
  {
   "cell_type": "code",
   "execution_count": 3,
   "metadata": {},
   "outputs": [],
   "source": [
    "x = np.random.random((samples, input_length)) ## 100,10\n",
    "y = np.random.random((samples, input_length))"
   ]
  },
  {
   "cell_type": "code",
   "execution_count": 5,
   "metadata": {},
   "outputs": [
    {
     "name": "stderr",
     "output_type": "stream",
     "text": [
      "W0912 17:03:04.777946 139728174520064 deprecation_wrapper.py:119] From /data/home/chenzhiyuan/anaconda3/envs/tf/lib/python3.6/site-packages/keras/backend/tensorflow_backend.py:4138: The name tf.random_uniform is deprecated. Please use tf.random.uniform instead.\n",
      "\n"
     ]
    },
    {
     "name": "stdout",
     "output_type": "stream",
     "text": [
      "(?, 6)\n"
     ]
    }
   ],
   "source": [
    "#########\n",
    "# encoder\n",
    "en_inputs = Input(shape=(10,))\n",
    "\n",
    "emb = Embedding(1000, 64, input_length=10)(en_inputs) # 100 10 64 \n",
    "state_h = []\n",
    "\n",
    "encoder_hout, fwd_h1, bck_h1 = Bidirectional(GRU(hidden_size, return_sequences=True, return_state=True), name='encoder_lstm1_%d'%0)(emb)\n",
    "state_h.append(concatenate([fwd_h1, bck_h1]))\n",
    "print(encoder_hout.shape)\n",
    "\n",
    "for i in range(1,hidden_dim):\n",
    "    encoder_hout, fwd_h1, bck_h1 = Bidirectional(GRU(hidden_size, return_sequences=True, return_state=True), name='encoder_lstm1_%d'%i)(encoder_hout)\n",
    "    state_h.append(concatenate([fwd_h1, bck_h1]))\n"
   ]
  },
  {
   "cell_type": "code",
   "execution_count": null,
   "metadata": {},
   "outputs": [],
   "source": [
    "########\n",
    "# decoder\n",
    "de_inputs = Input(shape=(1,))\n",
    "emb = Embedding(1000, 64, input_length=10)(de_inputs) # 100 10 64 \n",
    "emb = Activation('relu')(emb)\n",
    "state_h = []\n",
    "state_c = []\n",
    "\n",
    "decoder_hout, fwd_h2, bck_h2 = Bidirectional(GRU(hidden_size, return_sequences=True, return_state=True), name='decoder_lstm1_%d'%0)(emb)\n",
    "state_h.append(concatenate([fwd_h2, bck_h2]))\n",
    "print(decoder_hout.shape)\n",
    "\n",
    "for i in range(1,hidden_dim):\n",
    "    decoder_hout, fwd_h2, bck_h2 = Bidirectional(GRU(hidden_size, return_sequences=True, return_state=True), name='decoder_lstm1_%d'%i)(decoder_hout)\n",
    "    state_h.append(concatenate([fwd_h2, bck_h2]))\n",
    "\n",
    "decoder_hout = Dense(output_length)(decoder_hout)\n",
    "decoder_hout = Activation('softmax')(decoder_hout)\n",
    "    "
   ]
  },
  {
   "cell_type": "code",
   "execution_count": null,
   "metadata": {},
   "outputs": [],
   "source": [
    "########\n",
    "# attention\n",
    "embedding = Embedding"
   ]
  },
  {
   "cell_type": "code",
   "execution_count": 10,
   "metadata": {},
   "outputs": [
    {
     "name": "stdout",
     "output_type": "stream",
     "text": [
      "(100, 10, 12)\n"
     ]
    }
   ],
   "source": [
    "model = Model(de_inputs, decoder_hout)\n",
    "model.compile(loss='mse', optimizer='sgd')\n",
    "m = model.predict(y)\n",
    "print(m.shape)\n",
    "\n",
    "# model.fit(x, y, nb_epoch=1)"
   ]
  },
  {
   "cell_type": "code",
   "execution_count": null,
   "metadata": {},
   "outputs": [],
   "source": []
  }
 ],
 "metadata": {
  "kernelspec": {
   "display_name": "TensorFlow -GPU",
   "language": "python",
   "name": "tf-gpu"
  },
  "language_info": {
   "codemirror_mode": {
    "name": "ipython",
    "version": 3
   },
   "file_extension": ".py",
   "mimetype": "text/x-python",
   "name": "python",
   "nbconvert_exporter": "python",
   "pygments_lexer": "ipython3",
   "version": "3.6.9"
  }
 },
 "nbformat": 4,
 "nbformat_minor": 2
}
