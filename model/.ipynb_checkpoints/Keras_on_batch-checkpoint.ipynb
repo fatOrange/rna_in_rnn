{
 "cells": [
  {
   "cell_type": "code",
   "execution_count": null,
   "metadata": {},
   "outputs": [],
   "source": [
    "import numpy as np\n",
    "import tensorflow as tf\n",
    "from keras.callbacks import TensorBoard\n",
    "from keras.layers import Input, Dense\n",
    "from keras.models import Model\n",
    "\n",
    "\n",
    "def write_log(callback, names, logs, batch_no):\n",
    "    for name, value in zip(names, logs):\n",
    "        summary = tf.Summary()\n",
    "        summary_value = summary.value.add()\n",
    "        summary_value.simple_value = value\n",
    "        summary_value.tag = name\n",
    "        callback.writer.add_summary(summary, batch_no)\n",
    "        callback.writer.flush()\n",
    "    \n",
    "net_in = Input(shape=(3,))\n",
    "net_out = Dense(1)(net_in)\n",
    "model = Model(net_in, net_out)\n",
    "model.compile(loss='mse', optimizer='sgd', metrics=['mae'])\n",
    "\n",
    "log_path = './graph'\n",
    "callback = TensorBoard(log_path)\n",
    "callback.set_model(model)\n",
    "train_names = ['train_loss', 'train_mae']\n",
    "val_names = ['val_loss', 'val_mae']\n",
    "for batch_no in range(100):\n",
    "    X_train, Y_train = np.random.rand(32, 3), np.random.rand(32, 1)\n",
    "    logs = model.train_on_batch(X_train, Y_train)\n",
    "    write_log(callback, train_names, logs, batch_no)\n",
    "    \n",
    "    if batch_no % 10 == 0:\n",
    "        X_val, Y_val = np.random.rand(32, 3), np.random.rand(32, 1)\n",
    "        logs = model.train_on_batch(X_val, Y_val)\n",
    "        write_log(callback, val_names, logs, batch_no//10)"
   ]
  }
 ],
 "metadata": {
  "kernelspec": {
   "display_name": "TensorFlow -GPU",
   "language": "python",
   "name": "tf-gpu"
  },
  "language_info": {
   "codemirror_mode": {
    "name": "ipython",
    "version": 3
   },
   "file_extension": ".py",
   "mimetype": "text/x-python",
   "name": "python",
   "nbconvert_exporter": "python",
   "pygments_lexer": "ipython3",
   "version": "3.6.9"
  }
 },
 "nbformat": 4,
 "nbformat_minor": 2
}
